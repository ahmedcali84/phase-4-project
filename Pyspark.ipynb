{
 "cells": [
  {
   "cell_type": "markdown",
   "id": "df8272d0-d33f-4d3b-b740-616821c1b028",
   "metadata": {},
   "source": [
    "## RECOMMENDATION SYSTEM USING PYSPARK\n",
    "In this Noteebook We shall be using pyspark to model a recommendation system ."
   ]
  },
  {
   "cell_type": "markdown",
   "id": "41db2b39-f380-4117-9d2c-9a44d2663396",
   "metadata": {},
   "source": [
    "Refer to the notebook for the explored and prepared data."
   ]
  },
  {
   "cell_type": "code",
   "execution_count": 7,
   "id": "0fa036fb-88f0-44ac-a22e-a934fb2ae2e1",
   "metadata": {},
   "outputs": [],
   "source": [
    "# import necessary libraries\n",
    "import pyspark\n",
    "from pyspark.sql import SparkSession\n",
    "\n",
    "# instantiate SparkSession object\n",
    "spark = SparkSession.builder.master(\"local\").getOrCreate()\n",
    "\n"
   ]
  },
  {
   "cell_type": "code",
   "execution_count": 14,
   "id": "75717192-3555-4280-8462-ebe5356a6c32",
   "metadata": {},
   "outputs": [],
   "source": [
    "# Loading the csv file we created in the Notebook\n",
    "data = spark.read.format('csv').option('header','true').load('movie-rate.csv')"
   ]
  },
  {
   "cell_type": "code",
   "execution_count": 15,
   "id": "55d29fd7-0fd4-4658-8929-2773502c407b",
   "metadata": {},
   "outputs": [
    {
     "name": "stdout",
     "output_type": "stream",
     "text": [
      "+-------+----------------+--------------------+------+------+\n",
      "|movieId|           title|              genres|userId|rating|\n",
      "+-------+----------------+--------------------+------+------+\n",
      "|      1|Toy Story (1995)|Adventure|Animati...|     1|   4.0|\n",
      "|      1|Toy Story (1995)|Adventure|Animati...|     5|   4.0|\n",
      "|      1|Toy Story (1995)|Adventure|Animati...|     7|   4.5|\n",
      "|      1|Toy Story (1995)|Adventure|Animati...|    15|   2.5|\n",
      "|      1|Toy Story (1995)|Adventure|Animati...|    17|   4.5|\n",
      "|      1|Toy Story (1995)|Adventure|Animati...|    18|   3.5|\n",
      "|      1|Toy Story (1995)|Adventure|Animati...|    19|   4.0|\n",
      "|      1|Toy Story (1995)|Adventure|Animati...|    21|   3.5|\n",
      "|      1|Toy Story (1995)|Adventure|Animati...|    27|   3.0|\n",
      "|      1|Toy Story (1995)|Adventure|Animati...|    31|   5.0|\n",
      "|      1|Toy Story (1995)|Adventure|Animati...|    32|   3.0|\n",
      "|      1|Toy Story (1995)|Adventure|Animati...|    33|   3.0|\n",
      "|      1|Toy Story (1995)|Adventure|Animati...|    40|   5.0|\n",
      "|      1|Toy Story (1995)|Adventure|Animati...|    43|   5.0|\n",
      "|      1|Toy Story (1995)|Adventure|Animati...|    44|   3.0|\n",
      "|      1|Toy Story (1995)|Adventure|Animati...|    45|   4.0|\n",
      "|      1|Toy Story (1995)|Adventure|Animati...|    46|   5.0|\n",
      "|      1|Toy Story (1995)|Adventure|Animati...|    50|   3.0|\n",
      "|      1|Toy Story (1995)|Adventure|Animati...|    54|   3.0|\n",
      "|      1|Toy Story (1995)|Adventure|Animati...|    57|   5.0|\n",
      "+-------+----------------+--------------------+------+------+\n",
      "only showing top 20 rows\n",
      "\n"
     ]
    }
   ],
   "source": [
    "# calling the .show() method to preview the data\n",
    "data.show()"
   ]
  },
  {
   "cell_type": "code",
   "execution_count": 16,
   "id": "bf6eb447-5ff0-4a9d-a314-2e5a2dade932",
   "metadata": {},
   "outputs": [
    {
     "name": "stdout",
     "output_type": "stream",
     "text": [
      "root\n",
      " |-- movieId: string (nullable = true)\n",
      " |-- title: string (nullable = true)\n",
      " |-- genres: string (nullable = true)\n",
      " |-- userId: string (nullable = true)\n",
      " |-- rating: string (nullable = true)\n",
      "\n"
     ]
    }
   ],
   "source": [
    "data.printSchema()"
   ]
  },
  {
   "cell_type": "code",
   "execution_count": 18,
   "id": "7ab405d3-9483-45f9-967f-25365dcb522a",
   "metadata": {},
   "outputs": [],
   "source": [
    "# Let's cast our numeric data back to numeric \n",
    "data= data.withColumn('userId',data['userId'].cast('int'))\n",
    "data = data.withColumn('movieId',data['movieId'].cast('int'))\n",
    "data = data.withColumn('rating',data['rating'].cast('float'))"
   ]
  },
  {
   "cell_type": "code",
   "execution_count": 19,
   "id": "125c45be-bb6d-4152-9c21-efcc2a5e06b5",
   "metadata": {},
   "outputs": [
    {
     "name": "stdout",
     "output_type": "stream",
     "text": [
      "root\n",
      " |-- movieId: integer (nullable = true)\n",
      " |-- title: string (nullable = true)\n",
      " |-- genres: string (nullable = true)\n",
      " |-- userId: integer (nullable = true)\n",
      " |-- rating: float (nullable = true)\n",
      "\n"
     ]
    }
   ],
   "source": [
    "data.printSchema()"
   ]
  },
  {
   "cell_type": "code",
   "execution_count": 21,
   "id": "2febd6ad-ae34-4e43-8b3b-17c9fbc831fe",
   "metadata": {},
   "outputs": [],
   "source": [
    "# There we go back to normal\n",
    "# On to modelling\n",
    "# Using ALS \n",
    "\n",
    "from pyspark.ml.recommendation import ALS"
   ]
  },
  {
   "cell_type": "code",
   "execution_count": 22,
   "id": "ac03342f-76d7-40f8-a030-6ebdd7693a00",
   "metadata": {},
   "outputs": [],
   "source": [
    "# Instantiate the ALS class\n",
    "als = ALS(\n",
    "    userCol='userId',\n",
    "    itemCol='movieId',\n",
    "    ratingCol='rating',\n",
    "    nonnegative=True,\n",
    "    coldStartStrategy=\"drop\"\n",
    ")"
   ]
  },
  {
   "cell_type": "code",
   "execution_count": 23,
   "id": "451eb620-4616-43a6-9f2a-d602cf249bed",
   "metadata": {},
   "outputs": [],
   "source": [
    "# Splitting the Data\n",
    "train , test = data.randomSplit(weights=[0.75,0.25],seed=42)"
   ]
  },
  {
   "cell_type": "code",
   "execution_count": 24,
   "id": "ab0e4c38-d6d2-4610-888a-234239a36fa0",
   "metadata": {},
   "outputs": [],
   "source": [
    "# Fitting the train data\n",
    "model = als.fit(train)"
   ]
  },
  {
   "cell_type": "code",
   "execution_count": 25,
   "id": "4adde2b0-f40f-4500-af34-1fd231028e01",
   "metadata": {},
   "outputs": [],
   "source": [
    "#  time to evaluate after we fitted the train data\n",
    "from pyspark.ml.evaluation import RegressionEvaluator\n",
    "\n",
    "predictions = model.transform(test)"
   ]
  },
  {
   "cell_type": "code",
   "execution_count": 26,
   "id": "f9fc28a6-5ba0-4d9c-9b0d-3b0f6b7055a6",
   "metadata": {},
   "outputs": [
    {
     "name": "stdout",
     "output_type": "stream",
     "text": [
      "RMSE: 0.8813433891456554\n"
     ]
    }
   ],
   "source": [
    "# Evaluating using \"RMSE\"\n",
    "evaluator = RegressionEvaluator(metricName='rmse',labelCol='rating',predictionCol='prediction')\n",
    "rmse = evaluator.evaluate(predictions)\n",
    "print(f'RMSE: {rmse}')"
   ]
  },
  {
   "cell_type": "markdown",
   "id": "10ab1123-b0ee-4091-bc07-2b47c5ed4b95",
   "metadata": {},
   "source": [
    "### Cross Evaluating to find the optimal parameters"
   ]
  },
  {
   "cell_type": "code",
   "execution_count": 28,
   "id": "7edca496-4855-40b1-82ef-771ebdb53b4b",
   "metadata": {},
   "outputs": [],
   "source": [
    "from pyspark.ml.tuning import CrossValidator, ParamGridBuilder\n",
    "\n",
    "# defining seed\n",
    "seed = 42\n",
    "# initialize the als model\n",
    "als = ALS(\n",
    "    userCol='userId',\n",
    "    itemCol='movieId',\n",
    "    ratingCol='rating',\n",
    "    nonnegative=True,\n",
    "    coldStartStrategy=\"drop\"\n",
    ")\n",
    "\n",
    "# Building ParamGridBuilder\n",
    "params = ParamGridBuilder() \\\n",
    "    .addGrid(als.rank, [10, 30, 50]) \\\n",
    "    .addGrid(als.maxIter, [5, 10, 15]) \\\n",
    "    .addGrid(als.regParam, [0.01, 0.1, 1.0]) \\\n",
    "    .build()\n",
    "\n",
    "# evaluator (\"RMSE\")\n",
    "evaluator = RegressionEvaluator(metricName='rmse',labelCol='rating',predictionCol='prediction')\n",
    "\n",
    "# Cross-evaluation\n",
    "cross_val = CrossValidator(estimator=als,\n",
    "                            estimatorParamMaps=params,\n",
    "                            evaluator=evaluator,\n",
    "                            numFolds=5,\n",
    "                            seed=seed,\n",
    "                            parallelism=4)\n",
    "\n",
    "# Train-test-split\n",
    "train , test = data.randomSplit(weights=[0.75,0.25],seed=seed)\n",
    "\n",
    "model = cross_val.fit(train)"
   ]
  },
  {
   "cell_type": "code",
   "execution_count": 29,
   "id": "8476e30d-ad82-4caa-b017-1166f704cece",
   "metadata": {},
   "outputs": [
    {
     "name": "stdout",
     "output_type": "stream",
     "text": [
      "Root Mean Squared Error (RMSE) on test data of the Best Model: 0.8750608881572383\n"
     ]
    }
   ],
   "source": [
    "# best Model predictions\n",
    "best_model = model.bestModel\n",
    "predictions = best_model.transform(test)\n",
    "rmse = evaluator.evaluate(predictions)\n",
    "\n",
    "print(f\"Root Mean Squared Error (RMSE) on test data of the Best Model: {rmse}\")"
   ]
  },
  {
   "cell_type": "code",
   "execution_count": 58,
   "id": "fea50942-453c-44c5-bae0-6560e19b5934",
   "metadata": {},
   "outputs": [],
   "source": [
    "# GENERATE TOP 10 RECOMMENDATION FOR USERS\n",
    "rec_users = best_model.recommendForAllUsers(10)"
   ]
  },
  {
   "cell_type": "code",
   "execution_count": 61,
   "id": "e857dbff-b342-4f45-9823-c26e5c1a1ec8",
   "metadata": {},
   "outputs": [
    {
     "name": "stdout",
     "output_type": "stream",
     "text": [
      "+------+--------------------+\n",
      "|userId|     recommendations|\n",
      "+------+--------------------+\n",
      "|   471|[[7121, 4.714729]...|\n",
      "|   463|[[69524, 4.733878...|\n",
      "|   496|[[306, 4.526734],...|\n",
      "|   148|[[98491, 4.681185...|\n",
      "|   540|[[7748, 5.1192875...|\n",
      "+------+--------------------+\n",
      "only showing top 5 rows\n",
      "\n"
     ]
    }
   ],
   "source": [
    "rec_users.show(5)"
   ]
  },
  {
   "cell_type": "code",
   "execution_count": 62,
   "id": "cdf2e7c2-fc6d-450e-9d91-de6a8357de1b",
   "metadata": {},
   "outputs": [
    {
     "name": "stdout",
     "output_type": "stream",
     "text": [
      "+-------+--------------------+\n",
      "|movieId|     recommendations|\n",
      "+-------+--------------------+\n",
      "|   1580|[[53, 4.730987], ...|\n",
      "|   4900|[[43, 4.4274774],...|\n",
      "|   6620|[[53, 4.7439375],...|\n",
      "|   7340|[[562, 3.9343483]...|\n",
      "|  32460|[[53, 5.5077505],...|\n",
      "+-------+--------------------+\n",
      "only showing top 5 rows\n",
      "\n"
     ]
    }
   ],
   "source": [
    "rec_items = best_model.recommendForAllItems(10)\n",
    "rec_items.show(5)"
   ]
  },
  {
   "cell_type": "code",
   "execution_count": 63,
   "id": "a97ebddc-db39-4490-abc2-92e4348b5274",
   "metadata": {},
   "outputs": [
    {
     "name": "stdout",
     "output_type": "stream",
     "text": [
      "+-------+----------------+--------------------+------+------+\n",
      "|movieId|           title|              genres|userId|rating|\n",
      "+-------+----------------+--------------------+------+------+\n",
      "|      1|Toy Story (1995)|Adventure|Animati...|     1|   4.0|\n",
      "|      1|Toy Story (1995)|Adventure|Animati...|     5|   4.0|\n",
      "|      1|Toy Story (1995)|Adventure|Animati...|     7|   4.5|\n",
      "|      1|Toy Story (1995)|Adventure|Animati...|    15|   2.5|\n",
      "|      1|Toy Story (1995)|Adventure|Animati...|    17|   4.5|\n",
      "+-------+----------------+--------------------+------+------+\n",
      "only showing top 5 rows\n",
      "\n"
     ]
    }
   ],
   "source": [
    "data.show(5)"
   ]
  },
  {
   "cell_type": "markdown",
   "id": "21085415-f906-4ddf-9fbc-21148288a770",
   "metadata": {},
   "source": [
    "#### Recommendation Function for a specific user"
   ]
  },
  {
   "cell_type": "code",
   "execution_count": 241,
   "id": "81cfcb72-cee0-4ba4-badd-21169e0689d9",
   "metadata": {},
   "outputs": [],
   "source": [
    "def recommend_for_specific_user(user , df , users_df):\n",
    "    u_df = users_df.toPandas()\n",
    "    rate = df.toPandas() \n",
    "\n",
    "    movie_ids = []\n",
    "    movies_and_rates = []\n",
    "    for i in u_df[u_df['userId'] == user]['recommendations']:\n",
    "        for x in i:\n",
    "            movie_ids.append(x[0])\n",
    "            movies_and_rates.append(x[1])\n",
    "            \n",
    "    titles = []\n",
    "    for x in movie_ids:\n",
    "        if x in rate['movieId']:\n",
    "            titles.append(rate[rate['movieId'] == x]['title'].drop_duplicates().values[0])\n",
    "    return  list(zip(titles,movies_and_rates)) \n",
    "    "
   ]
  },
  {
   "cell_type": "code",
   "execution_count": 242,
   "id": "70702c3d-7f62-4aea-ad3e-7a10fca0bc85",
   "metadata": {},
   "outputs": [
    {
     "data": {
      "text/plain": [
       "[(\"Adam's Rib (1949)\", 5.128778457641602),\n",
       " ('Beautiful Thing (1996)', 4.945532321929932),\n",
       " ('Chorus Line, A (1985)', 4.893959999084473),\n",
       " ('Crossing Delancey (1988)', 4.880897045135498),\n",
       " ('Lady Jane (1986)', 4.880897045135498),\n",
       " ('Guys and Dolls (1955)', 4.853848934173584),\n",
       " ('Wallace & Gromit: The Best of Aardman Animation (1996)', 4.832089900970459),\n",
       " ('Six Degrees of Separation (1993)', 4.82675313949585),\n",
       " ('Love and Death (1975)', 4.824601650238037),\n",
       " ('Saving Face (2004)', 4.81075382232666)]"
      ]
     },
     "execution_count": 242,
     "metadata": {},
     "output_type": "execute_result"
    }
   ],
   "source": [
    "# Example of predicted movies ratings according to the preferences of user 20\n",
    "recommend_for_specific_user(20,data,rec_users,rec_items)"
   ]
  },
  {
   "cell_type": "code",
   "execution_count": null,
   "id": "b3862329-97f6-4e36-950e-75c1e8379429",
   "metadata": {},
   "outputs": [],
   "source": []
  }
 ],
 "metadata": {
  "kernelspec": {
   "display_name": "Python (spark-env)",
   "language": "python",
   "name": "spark-env"
  },
  "language_info": {
   "codemirror_mode": {
    "name": "ipython",
    "version": 3
   },
   "file_extension": ".py",
   "mimetype": "text/x-python",
   "name": "python",
   "nbconvert_exporter": "python",
   "pygments_lexer": "ipython3",
   "version": "3.8.18"
  }
 },
 "nbformat": 4,
 "nbformat_minor": 5
}
